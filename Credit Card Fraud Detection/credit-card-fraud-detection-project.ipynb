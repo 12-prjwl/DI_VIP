{
 "cells": [
  {
   "cell_type": "code",
   "execution_count": 1,
   "id": "264585a3",
   "metadata": {
    "execution": {
     "iopub.execute_input": "2023-08-17T11:05:33.844775Z",
     "iopub.status.busy": "2023-08-17T11:05:33.844405Z",
     "iopub.status.idle": "2023-08-17T11:05:35.257779Z",
     "shell.execute_reply": "2023-08-17T11:05:35.256876Z"
    },
    "papermill": {
     "duration": 1.425194,
     "end_time": "2023-08-17T11:05:35.260370",
     "exception": false,
     "start_time": "2023-08-17T11:05:33.835176",
     "status": "completed"
    },
    "tags": []
   },
   "outputs": [
    {
     "name": "stderr",
     "output_type": "stream",
     "text": [
      "/opt/conda/lib/python3.10/site-packages/scipy/__init__.py:146: UserWarning: A NumPy version >=1.16.5 and <1.23.0 is required for this version of SciPy (detected version 1.23.5\n",
      "  warnings.warn(f\"A NumPy version >={np_minversion} and <{np_maxversion}\"\n"
     ]
    }
   ],
   "source": [
    "import numpy as np\n",
    "import pandas as pd\n",
    "from sklearn.model_selection import train_test_split\n",
    "from sklearn.linear_model import LogisticRegression\n",
    "from sklearn.metrics import accuracy_score"
   ]
  },
  {
   "cell_type": "code",
   "execution_count": 2,
   "id": "95812d3c",
   "metadata": {
    "execution": {
     "iopub.execute_input": "2023-08-17T11:05:35.276756Z",
     "iopub.status.busy": "2023-08-17T11:05:35.275996Z",
     "iopub.status.idle": "2023-08-17T11:05:39.386895Z",
     "shell.execute_reply": "2023-08-17T11:05:39.385676Z"
    },
    "papermill": {
     "duration": 4.121691,
     "end_time": "2023-08-17T11:05:39.389387",
     "exception": false,
     "start_time": "2023-08-17T11:05:35.267696",
     "status": "completed"
    },
    "tags": []
   },
   "outputs": [],
   "source": [
    "credit_card_data = pd.read_csv('/kaggle/input/creditcardfraud/creditcard.csv')"
   ]
  },
  {
   "cell_type": "code",
   "execution_count": 3,
   "id": "55aadc49",
   "metadata": {
    "execution": {
     "iopub.execute_input": "2023-08-17T11:05:39.405424Z",
     "iopub.status.busy": "2023-08-17T11:05:39.404649Z",
     "iopub.status.idle": "2023-08-17T11:05:39.441065Z",
     "shell.execute_reply": "2023-08-17T11:05:39.439974Z"
    },
    "papermill": {
     "duration": 0.046586,
     "end_time": "2023-08-17T11:05:39.443211",
     "exception": false,
     "start_time": "2023-08-17T11:05:39.396625",
     "status": "completed"
    },
    "tags": []
   },
   "outputs": [
    {
     "data": {
      "text/html": [
       "<div>\n",
       "<style scoped>\n",
       "    .dataframe tbody tr th:only-of-type {\n",
       "        vertical-align: middle;\n",
       "    }\n",
       "\n",
       "    .dataframe tbody tr th {\n",
       "        vertical-align: top;\n",
       "    }\n",
       "\n",
       "    .dataframe thead th {\n",
       "        text-align: right;\n",
       "    }\n",
       "</style>\n",
       "<table border=\"1\" class=\"dataframe\">\n",
       "  <thead>\n",
       "    <tr style=\"text-align: right;\">\n",
       "      <th></th>\n",
       "      <th>Time</th>\n",
       "      <th>V1</th>\n",
       "      <th>V2</th>\n",
       "      <th>V3</th>\n",
       "      <th>V4</th>\n",
       "      <th>V5</th>\n",
       "      <th>V6</th>\n",
       "      <th>V7</th>\n",
       "      <th>V8</th>\n",
       "      <th>V9</th>\n",
       "      <th>...</th>\n",
       "      <th>V21</th>\n",
       "      <th>V22</th>\n",
       "      <th>V23</th>\n",
       "      <th>V24</th>\n",
       "      <th>V25</th>\n",
       "      <th>V26</th>\n",
       "      <th>V27</th>\n",
       "      <th>V28</th>\n",
       "      <th>Amount</th>\n",
       "      <th>Class</th>\n",
       "    </tr>\n",
       "  </thead>\n",
       "  <tbody>\n",
       "    <tr>\n",
       "      <th>0</th>\n",
       "      <td>0.0</td>\n",
       "      <td>-1.359807</td>\n",
       "      <td>-0.072781</td>\n",
       "      <td>2.536347</td>\n",
       "      <td>1.378155</td>\n",
       "      <td>-0.338321</td>\n",
       "      <td>0.462388</td>\n",
       "      <td>0.239599</td>\n",
       "      <td>0.098698</td>\n",
       "      <td>0.363787</td>\n",
       "      <td>...</td>\n",
       "      <td>-0.018307</td>\n",
       "      <td>0.277838</td>\n",
       "      <td>-0.110474</td>\n",
       "      <td>0.066928</td>\n",
       "      <td>0.128539</td>\n",
       "      <td>-0.189115</td>\n",
       "      <td>0.133558</td>\n",
       "      <td>-0.021053</td>\n",
       "      <td>149.62</td>\n",
       "      <td>0</td>\n",
       "    </tr>\n",
       "    <tr>\n",
       "      <th>1</th>\n",
       "      <td>0.0</td>\n",
       "      <td>1.191857</td>\n",
       "      <td>0.266151</td>\n",
       "      <td>0.166480</td>\n",
       "      <td>0.448154</td>\n",
       "      <td>0.060018</td>\n",
       "      <td>-0.082361</td>\n",
       "      <td>-0.078803</td>\n",
       "      <td>0.085102</td>\n",
       "      <td>-0.255425</td>\n",
       "      <td>...</td>\n",
       "      <td>-0.225775</td>\n",
       "      <td>-0.638672</td>\n",
       "      <td>0.101288</td>\n",
       "      <td>-0.339846</td>\n",
       "      <td>0.167170</td>\n",
       "      <td>0.125895</td>\n",
       "      <td>-0.008983</td>\n",
       "      <td>0.014724</td>\n",
       "      <td>2.69</td>\n",
       "      <td>0</td>\n",
       "    </tr>\n",
       "    <tr>\n",
       "      <th>2</th>\n",
       "      <td>1.0</td>\n",
       "      <td>-1.358354</td>\n",
       "      <td>-1.340163</td>\n",
       "      <td>1.773209</td>\n",
       "      <td>0.379780</td>\n",
       "      <td>-0.503198</td>\n",
       "      <td>1.800499</td>\n",
       "      <td>0.791461</td>\n",
       "      <td>0.247676</td>\n",
       "      <td>-1.514654</td>\n",
       "      <td>...</td>\n",
       "      <td>0.247998</td>\n",
       "      <td>0.771679</td>\n",
       "      <td>0.909412</td>\n",
       "      <td>-0.689281</td>\n",
       "      <td>-0.327642</td>\n",
       "      <td>-0.139097</td>\n",
       "      <td>-0.055353</td>\n",
       "      <td>-0.059752</td>\n",
       "      <td>378.66</td>\n",
       "      <td>0</td>\n",
       "    </tr>\n",
       "    <tr>\n",
       "      <th>3</th>\n",
       "      <td>1.0</td>\n",
       "      <td>-0.966272</td>\n",
       "      <td>-0.185226</td>\n",
       "      <td>1.792993</td>\n",
       "      <td>-0.863291</td>\n",
       "      <td>-0.010309</td>\n",
       "      <td>1.247203</td>\n",
       "      <td>0.237609</td>\n",
       "      <td>0.377436</td>\n",
       "      <td>-1.387024</td>\n",
       "      <td>...</td>\n",
       "      <td>-0.108300</td>\n",
       "      <td>0.005274</td>\n",
       "      <td>-0.190321</td>\n",
       "      <td>-1.175575</td>\n",
       "      <td>0.647376</td>\n",
       "      <td>-0.221929</td>\n",
       "      <td>0.062723</td>\n",
       "      <td>0.061458</td>\n",
       "      <td>123.50</td>\n",
       "      <td>0</td>\n",
       "    </tr>\n",
       "    <tr>\n",
       "      <th>4</th>\n",
       "      <td>2.0</td>\n",
       "      <td>-1.158233</td>\n",
       "      <td>0.877737</td>\n",
       "      <td>1.548718</td>\n",
       "      <td>0.403034</td>\n",
       "      <td>-0.407193</td>\n",
       "      <td>0.095921</td>\n",
       "      <td>0.592941</td>\n",
       "      <td>-0.270533</td>\n",
       "      <td>0.817739</td>\n",
       "      <td>...</td>\n",
       "      <td>-0.009431</td>\n",
       "      <td>0.798278</td>\n",
       "      <td>-0.137458</td>\n",
       "      <td>0.141267</td>\n",
       "      <td>-0.206010</td>\n",
       "      <td>0.502292</td>\n",
       "      <td>0.219422</td>\n",
       "      <td>0.215153</td>\n",
       "      <td>69.99</td>\n",
       "      <td>0</td>\n",
       "    </tr>\n",
       "  </tbody>\n",
       "</table>\n",
       "<p>5 rows × 31 columns</p>\n",
       "</div>"
      ],
      "text/plain": [
       "   Time        V1        V2        V3        V4        V5        V6        V7  \\\n",
       "0   0.0 -1.359807 -0.072781  2.536347  1.378155 -0.338321  0.462388  0.239599   \n",
       "1   0.0  1.191857  0.266151  0.166480  0.448154  0.060018 -0.082361 -0.078803   \n",
       "2   1.0 -1.358354 -1.340163  1.773209  0.379780 -0.503198  1.800499  0.791461   \n",
       "3   1.0 -0.966272 -0.185226  1.792993 -0.863291 -0.010309  1.247203  0.237609   \n",
       "4   2.0 -1.158233  0.877737  1.548718  0.403034 -0.407193  0.095921  0.592941   \n",
       "\n",
       "         V8        V9  ...       V21       V22       V23       V24       V25  \\\n",
       "0  0.098698  0.363787  ... -0.018307  0.277838 -0.110474  0.066928  0.128539   \n",
       "1  0.085102 -0.255425  ... -0.225775 -0.638672  0.101288 -0.339846  0.167170   \n",
       "2  0.247676 -1.514654  ...  0.247998  0.771679  0.909412 -0.689281 -0.327642   \n",
       "3  0.377436 -1.387024  ... -0.108300  0.005274 -0.190321 -1.175575  0.647376   \n",
       "4 -0.270533  0.817739  ... -0.009431  0.798278 -0.137458  0.141267 -0.206010   \n",
       "\n",
       "        V26       V27       V28  Amount  Class  \n",
       "0 -0.189115  0.133558 -0.021053  149.62      0  \n",
       "1  0.125895 -0.008983  0.014724    2.69      0  \n",
       "2 -0.139097 -0.055353 -0.059752  378.66      0  \n",
       "3 -0.221929  0.062723  0.061458  123.50      0  \n",
       "4  0.502292  0.219422  0.215153   69.99      0  \n",
       "\n",
       "[5 rows x 31 columns]"
      ]
     },
     "execution_count": 3,
     "metadata": {},
     "output_type": "execute_result"
    }
   ],
   "source": [
    "credit_card_data.head()"
   ]
  },
  {
   "cell_type": "code",
   "execution_count": 4,
   "id": "64ee06d8",
   "metadata": {
    "execution": {
     "iopub.execute_input": "2023-08-17T11:05:39.459942Z",
     "iopub.status.busy": "2023-08-17T11:05:39.459064Z",
     "iopub.status.idle": "2023-08-17T11:05:39.484844Z",
     "shell.execute_reply": "2023-08-17T11:05:39.483793Z"
    },
    "papermill": {
     "duration": 0.036775,
     "end_time": "2023-08-17T11:05:39.487357",
     "exception": false,
     "start_time": "2023-08-17T11:05:39.450582",
     "status": "completed"
    },
    "tags": []
   },
   "outputs": [
    {
     "data": {
      "text/html": [
       "<div>\n",
       "<style scoped>\n",
       "    .dataframe tbody tr th:only-of-type {\n",
       "        vertical-align: middle;\n",
       "    }\n",
       "\n",
       "    .dataframe tbody tr th {\n",
       "        vertical-align: top;\n",
       "    }\n",
       "\n",
       "    .dataframe thead th {\n",
       "        text-align: right;\n",
       "    }\n",
       "</style>\n",
       "<table border=\"1\" class=\"dataframe\">\n",
       "  <thead>\n",
       "    <tr style=\"text-align: right;\">\n",
       "      <th></th>\n",
       "      <th>Time</th>\n",
       "      <th>V1</th>\n",
       "      <th>V2</th>\n",
       "      <th>V3</th>\n",
       "      <th>V4</th>\n",
       "      <th>V5</th>\n",
       "      <th>V6</th>\n",
       "      <th>V7</th>\n",
       "      <th>V8</th>\n",
       "      <th>V9</th>\n",
       "      <th>...</th>\n",
       "      <th>V21</th>\n",
       "      <th>V22</th>\n",
       "      <th>V23</th>\n",
       "      <th>V24</th>\n",
       "      <th>V25</th>\n",
       "      <th>V26</th>\n",
       "      <th>V27</th>\n",
       "      <th>V28</th>\n",
       "      <th>Amount</th>\n",
       "      <th>Class</th>\n",
       "    </tr>\n",
       "  </thead>\n",
       "  <tbody>\n",
       "    <tr>\n",
       "      <th>284802</th>\n",
       "      <td>172786.0</td>\n",
       "      <td>-11.881118</td>\n",
       "      <td>10.071785</td>\n",
       "      <td>-9.834783</td>\n",
       "      <td>-2.066656</td>\n",
       "      <td>-5.364473</td>\n",
       "      <td>-2.606837</td>\n",
       "      <td>-4.918215</td>\n",
       "      <td>7.305334</td>\n",
       "      <td>1.914428</td>\n",
       "      <td>...</td>\n",
       "      <td>0.213454</td>\n",
       "      <td>0.111864</td>\n",
       "      <td>1.014480</td>\n",
       "      <td>-0.509348</td>\n",
       "      <td>1.436807</td>\n",
       "      <td>0.250034</td>\n",
       "      <td>0.943651</td>\n",
       "      <td>0.823731</td>\n",
       "      <td>0.77</td>\n",
       "      <td>0</td>\n",
       "    </tr>\n",
       "    <tr>\n",
       "      <th>284803</th>\n",
       "      <td>172787.0</td>\n",
       "      <td>-0.732789</td>\n",
       "      <td>-0.055080</td>\n",
       "      <td>2.035030</td>\n",
       "      <td>-0.738589</td>\n",
       "      <td>0.868229</td>\n",
       "      <td>1.058415</td>\n",
       "      <td>0.024330</td>\n",
       "      <td>0.294869</td>\n",
       "      <td>0.584800</td>\n",
       "      <td>...</td>\n",
       "      <td>0.214205</td>\n",
       "      <td>0.924384</td>\n",
       "      <td>0.012463</td>\n",
       "      <td>-1.016226</td>\n",
       "      <td>-0.606624</td>\n",
       "      <td>-0.395255</td>\n",
       "      <td>0.068472</td>\n",
       "      <td>-0.053527</td>\n",
       "      <td>24.79</td>\n",
       "      <td>0</td>\n",
       "    </tr>\n",
       "    <tr>\n",
       "      <th>284804</th>\n",
       "      <td>172788.0</td>\n",
       "      <td>1.919565</td>\n",
       "      <td>-0.301254</td>\n",
       "      <td>-3.249640</td>\n",
       "      <td>-0.557828</td>\n",
       "      <td>2.630515</td>\n",
       "      <td>3.031260</td>\n",
       "      <td>-0.296827</td>\n",
       "      <td>0.708417</td>\n",
       "      <td>0.432454</td>\n",
       "      <td>...</td>\n",
       "      <td>0.232045</td>\n",
       "      <td>0.578229</td>\n",
       "      <td>-0.037501</td>\n",
       "      <td>0.640134</td>\n",
       "      <td>0.265745</td>\n",
       "      <td>-0.087371</td>\n",
       "      <td>0.004455</td>\n",
       "      <td>-0.026561</td>\n",
       "      <td>67.88</td>\n",
       "      <td>0</td>\n",
       "    </tr>\n",
       "    <tr>\n",
       "      <th>284805</th>\n",
       "      <td>172788.0</td>\n",
       "      <td>-0.240440</td>\n",
       "      <td>0.530483</td>\n",
       "      <td>0.702510</td>\n",
       "      <td>0.689799</td>\n",
       "      <td>-0.377961</td>\n",
       "      <td>0.623708</td>\n",
       "      <td>-0.686180</td>\n",
       "      <td>0.679145</td>\n",
       "      <td>0.392087</td>\n",
       "      <td>...</td>\n",
       "      <td>0.265245</td>\n",
       "      <td>0.800049</td>\n",
       "      <td>-0.163298</td>\n",
       "      <td>0.123205</td>\n",
       "      <td>-0.569159</td>\n",
       "      <td>0.546668</td>\n",
       "      <td>0.108821</td>\n",
       "      <td>0.104533</td>\n",
       "      <td>10.00</td>\n",
       "      <td>0</td>\n",
       "    </tr>\n",
       "    <tr>\n",
       "      <th>284806</th>\n",
       "      <td>172792.0</td>\n",
       "      <td>-0.533413</td>\n",
       "      <td>-0.189733</td>\n",
       "      <td>0.703337</td>\n",
       "      <td>-0.506271</td>\n",
       "      <td>-0.012546</td>\n",
       "      <td>-0.649617</td>\n",
       "      <td>1.577006</td>\n",
       "      <td>-0.414650</td>\n",
       "      <td>0.486180</td>\n",
       "      <td>...</td>\n",
       "      <td>0.261057</td>\n",
       "      <td>0.643078</td>\n",
       "      <td>0.376777</td>\n",
       "      <td>0.008797</td>\n",
       "      <td>-0.473649</td>\n",
       "      <td>-0.818267</td>\n",
       "      <td>-0.002415</td>\n",
       "      <td>0.013649</td>\n",
       "      <td>217.00</td>\n",
       "      <td>0</td>\n",
       "    </tr>\n",
       "  </tbody>\n",
       "</table>\n",
       "<p>5 rows × 31 columns</p>\n",
       "</div>"
      ],
      "text/plain": [
       "            Time         V1         V2        V3        V4        V5  \\\n",
       "284802  172786.0 -11.881118  10.071785 -9.834783 -2.066656 -5.364473   \n",
       "284803  172787.0  -0.732789  -0.055080  2.035030 -0.738589  0.868229   \n",
       "284804  172788.0   1.919565  -0.301254 -3.249640 -0.557828  2.630515   \n",
       "284805  172788.0  -0.240440   0.530483  0.702510  0.689799 -0.377961   \n",
       "284806  172792.0  -0.533413  -0.189733  0.703337 -0.506271 -0.012546   \n",
       "\n",
       "              V6        V7        V8        V9  ...       V21       V22  \\\n",
       "284802 -2.606837 -4.918215  7.305334  1.914428  ...  0.213454  0.111864   \n",
       "284803  1.058415  0.024330  0.294869  0.584800  ...  0.214205  0.924384   \n",
       "284804  3.031260 -0.296827  0.708417  0.432454  ...  0.232045  0.578229   \n",
       "284805  0.623708 -0.686180  0.679145  0.392087  ...  0.265245  0.800049   \n",
       "284806 -0.649617  1.577006 -0.414650  0.486180  ...  0.261057  0.643078   \n",
       "\n",
       "             V23       V24       V25       V26       V27       V28  Amount  \\\n",
       "284802  1.014480 -0.509348  1.436807  0.250034  0.943651  0.823731    0.77   \n",
       "284803  0.012463 -1.016226 -0.606624 -0.395255  0.068472 -0.053527   24.79   \n",
       "284804 -0.037501  0.640134  0.265745 -0.087371  0.004455 -0.026561   67.88   \n",
       "284805 -0.163298  0.123205 -0.569159  0.546668  0.108821  0.104533   10.00   \n",
       "284806  0.376777  0.008797 -0.473649 -0.818267 -0.002415  0.013649  217.00   \n",
       "\n",
       "        Class  \n",
       "284802      0  \n",
       "284803      0  \n",
       "284804      0  \n",
       "284805      0  \n",
       "284806      0  \n",
       "\n",
       "[5 rows x 31 columns]"
      ]
     },
     "execution_count": 4,
     "metadata": {},
     "output_type": "execute_result"
    }
   ],
   "source": [
    "credit_card_data.tail()"
   ]
  },
  {
   "cell_type": "code",
   "execution_count": 5,
   "id": "df7120b1",
   "metadata": {
    "execution": {
     "iopub.execute_input": "2023-08-17T11:05:39.505650Z",
     "iopub.status.busy": "2023-08-17T11:05:39.505285Z",
     "iopub.status.idle": "2023-08-17T11:05:39.547868Z",
     "shell.execute_reply": "2023-08-17T11:05:39.546586Z"
    },
    "papermill": {
     "duration": 0.053788,
     "end_time": "2023-08-17T11:05:39.550137",
     "exception": false,
     "start_time": "2023-08-17T11:05:39.496349",
     "status": "completed"
    },
    "tags": []
   },
   "outputs": [
    {
     "name": "stdout",
     "output_type": "stream",
     "text": [
      "<class 'pandas.core.frame.DataFrame'>\n",
      "RangeIndex: 284807 entries, 0 to 284806\n",
      "Data columns (total 31 columns):\n",
      " #   Column  Non-Null Count   Dtype  \n",
      "---  ------  --------------   -----  \n",
      " 0   Time    284807 non-null  float64\n",
      " 1   V1      284807 non-null  float64\n",
      " 2   V2      284807 non-null  float64\n",
      " 3   V3      284807 non-null  float64\n",
      " 4   V4      284807 non-null  float64\n",
      " 5   V5      284807 non-null  float64\n",
      " 6   V6      284807 non-null  float64\n",
      " 7   V7      284807 non-null  float64\n",
      " 8   V8      284807 non-null  float64\n",
      " 9   V9      284807 non-null  float64\n",
      " 10  V10     284807 non-null  float64\n",
      " 11  V11     284807 non-null  float64\n",
      " 12  V12     284807 non-null  float64\n",
      " 13  V13     284807 non-null  float64\n",
      " 14  V14     284807 non-null  float64\n",
      " 15  V15     284807 non-null  float64\n",
      " 16  V16     284807 non-null  float64\n",
      " 17  V17     284807 non-null  float64\n",
      " 18  V18     284807 non-null  float64\n",
      " 19  V19     284807 non-null  float64\n",
      " 20  V20     284807 non-null  float64\n",
      " 21  V21     284807 non-null  float64\n",
      " 22  V22     284807 non-null  float64\n",
      " 23  V23     284807 non-null  float64\n",
      " 24  V24     284807 non-null  float64\n",
      " 25  V25     284807 non-null  float64\n",
      " 26  V26     284807 non-null  float64\n",
      " 27  V27     284807 non-null  float64\n",
      " 28  V28     284807 non-null  float64\n",
      " 29  Amount  284807 non-null  float64\n",
      " 30  Class   284807 non-null  int64  \n",
      "dtypes: float64(30), int64(1)\n",
      "memory usage: 67.4 MB\n"
     ]
    }
   ],
   "source": [
    "credit_card_data.info()"
   ]
  },
  {
   "cell_type": "code",
   "execution_count": 6,
   "id": "9480bbb8",
   "metadata": {
    "execution": {
     "iopub.execute_input": "2023-08-17T11:05:39.567746Z",
     "iopub.status.busy": "2023-08-17T11:05:39.566670Z",
     "iopub.status.idle": "2023-08-17T11:05:39.588843Z",
     "shell.execute_reply": "2023-08-17T11:05:39.587821Z"
    },
    "papermill": {
     "duration": 0.033311,
     "end_time": "2023-08-17T11:05:39.591195",
     "exception": false,
     "start_time": "2023-08-17T11:05:39.557884",
     "status": "completed"
    },
    "tags": []
   },
   "outputs": [
    {
     "data": {
      "text/plain": [
       "Time      0\n",
       "V1        0\n",
       "V2        0\n",
       "V3        0\n",
       "V4        0\n",
       "V5        0\n",
       "V6        0\n",
       "V7        0\n",
       "V8        0\n",
       "V9        0\n",
       "V10       0\n",
       "V11       0\n",
       "V12       0\n",
       "V13       0\n",
       "V14       0\n",
       "V15       0\n",
       "V16       0\n",
       "V17       0\n",
       "V18       0\n",
       "V19       0\n",
       "V20       0\n",
       "V21       0\n",
       "V22       0\n",
       "V23       0\n",
       "V24       0\n",
       "V25       0\n",
       "V26       0\n",
       "V27       0\n",
       "V28       0\n",
       "Amount    0\n",
       "Class     0\n",
       "dtype: int64"
      ]
     },
     "execution_count": 6,
     "metadata": {},
     "output_type": "execute_result"
    }
   ],
   "source": [
    "credit_card_data.isnull().sum()"
   ]
  },
  {
   "cell_type": "code",
   "execution_count": 7,
   "id": "42a8bb2d",
   "metadata": {
    "execution": {
     "iopub.execute_input": "2023-08-17T11:05:39.608501Z",
     "iopub.status.busy": "2023-08-17T11:05:39.608151Z",
     "iopub.status.idle": "2023-08-17T11:05:39.617862Z",
     "shell.execute_reply": "2023-08-17T11:05:39.616821Z"
    },
    "papermill": {
     "duration": 0.020934,
     "end_time": "2023-08-17T11:05:39.619938",
     "exception": false,
     "start_time": "2023-08-17T11:05:39.599004",
     "status": "completed"
    },
    "tags": []
   },
   "outputs": [
    {
     "data": {
      "text/plain": [
       "0    284315\n",
       "1       492\n",
       "Name: Class, dtype: int64"
      ]
     },
     "execution_count": 7,
     "metadata": {},
     "output_type": "execute_result"
    }
   ],
   "source": [
    "credit_card_data['Class'].value_counts()"
   ]
  },
  {
   "cell_type": "code",
   "execution_count": 8,
   "id": "a85bdae6",
   "metadata": {
    "execution": {
     "iopub.execute_input": "2023-08-17T11:05:39.637525Z",
     "iopub.status.busy": "2023-08-17T11:05:39.637123Z",
     "iopub.status.idle": "2023-08-17T11:05:39.686079Z",
     "shell.execute_reply": "2023-08-17T11:05:39.684950Z"
    },
    "papermill": {
     "duration": 0.060576,
     "end_time": "2023-08-17T11:05:39.688533",
     "exception": false,
     "start_time": "2023-08-17T11:05:39.627957",
     "status": "completed"
    },
    "tags": []
   },
   "outputs": [],
   "source": [
    "legit = credit_card_data[credit_card_data.Class == 0]\n",
    "fraud = credit_card_data[credit_card_data.Class == 1]"
   ]
  },
  {
   "cell_type": "code",
   "execution_count": 9,
   "id": "9dbad5ab",
   "metadata": {
    "execution": {
     "iopub.execute_input": "2023-08-17T11:05:39.706588Z",
     "iopub.status.busy": "2023-08-17T11:05:39.706222Z",
     "iopub.status.idle": "2023-08-17T11:05:39.711303Z",
     "shell.execute_reply": "2023-08-17T11:05:39.710274Z"
    },
    "papermill": {
     "duration": 0.017349,
     "end_time": "2023-08-17T11:05:39.713936",
     "exception": false,
     "start_time": "2023-08-17T11:05:39.696587",
     "status": "completed"
    },
    "tags": []
   },
   "outputs": [
    {
     "name": "stdout",
     "output_type": "stream",
     "text": [
      "(284315, 31)\n",
      "(492, 31)\n"
     ]
    }
   ],
   "source": [
    "print(legit.shape)\n",
    "print(fraud.shape)"
   ]
  },
  {
   "cell_type": "code",
   "execution_count": 10,
   "id": "0a0dec3e",
   "metadata": {
    "execution": {
     "iopub.execute_input": "2023-08-17T11:05:39.732097Z",
     "iopub.status.busy": "2023-08-17T11:05:39.731431Z",
     "iopub.status.idle": "2023-08-17T11:05:39.756744Z",
     "shell.execute_reply": "2023-08-17T11:05:39.755687Z"
    },
    "papermill": {
     "duration": 0.037093,
     "end_time": "2023-08-17T11:05:39.759130",
     "exception": false,
     "start_time": "2023-08-17T11:05:39.722037",
     "status": "completed"
    },
    "tags": []
   },
   "outputs": [
    {
     "data": {
      "text/plain": [
       "count    284315.000000\n",
       "mean         88.291022\n",
       "std         250.105092\n",
       "min           0.000000\n",
       "25%           5.650000\n",
       "50%          22.000000\n",
       "75%          77.050000\n",
       "max       25691.160000\n",
       "Name: Amount, dtype: float64"
      ]
     },
     "execution_count": 10,
     "metadata": {},
     "output_type": "execute_result"
    }
   ],
   "source": [
    "legit.Amount.describe()"
   ]
  },
  {
   "cell_type": "code",
   "execution_count": 11,
   "id": "12b8e16a",
   "metadata": {
    "execution": {
     "iopub.execute_input": "2023-08-17T11:05:39.777447Z",
     "iopub.status.busy": "2023-08-17T11:05:39.777055Z",
     "iopub.status.idle": "2023-08-17T11:05:39.787831Z",
     "shell.execute_reply": "2023-08-17T11:05:39.786811Z"
    },
    "papermill": {
     "duration": 0.022161,
     "end_time": "2023-08-17T11:05:39.789972",
     "exception": false,
     "start_time": "2023-08-17T11:05:39.767811",
     "status": "completed"
    },
    "tags": []
   },
   "outputs": [
    {
     "data": {
      "text/plain": [
       "count     492.000000\n",
       "mean      122.211321\n",
       "std       256.683288\n",
       "min         0.000000\n",
       "25%         1.000000\n",
       "50%         9.250000\n",
       "75%       105.890000\n",
       "max      2125.870000\n",
       "Name: Amount, dtype: float64"
      ]
     },
     "execution_count": 11,
     "metadata": {},
     "output_type": "execute_result"
    }
   ],
   "source": [
    "fraud.Amount.describe()"
   ]
  },
  {
   "cell_type": "code",
   "execution_count": 12,
   "id": "fe2f6a5d",
   "metadata": {
    "execution": {
     "iopub.execute_input": "2023-08-17T11:05:39.808863Z",
     "iopub.status.busy": "2023-08-17T11:05:39.808209Z",
     "iopub.status.idle": "2023-08-17T11:05:39.904110Z",
     "shell.execute_reply": "2023-08-17T11:05:39.902789Z"
    },
    "papermill": {
     "duration": 0.108,
     "end_time": "2023-08-17T11:05:39.906407",
     "exception": false,
     "start_time": "2023-08-17T11:05:39.798407",
     "status": "completed"
    },
    "tags": []
   },
   "outputs": [
    {
     "data": {
      "text/html": [
       "<div>\n",
       "<style scoped>\n",
       "    .dataframe tbody tr th:only-of-type {\n",
       "        vertical-align: middle;\n",
       "    }\n",
       "\n",
       "    .dataframe tbody tr th {\n",
       "        vertical-align: top;\n",
       "    }\n",
       "\n",
       "    .dataframe thead th {\n",
       "        text-align: right;\n",
       "    }\n",
       "</style>\n",
       "<table border=\"1\" class=\"dataframe\">\n",
       "  <thead>\n",
       "    <tr style=\"text-align: right;\">\n",
       "      <th></th>\n",
       "      <th>Time</th>\n",
       "      <th>V1</th>\n",
       "      <th>V2</th>\n",
       "      <th>V3</th>\n",
       "      <th>V4</th>\n",
       "      <th>V5</th>\n",
       "      <th>V6</th>\n",
       "      <th>V7</th>\n",
       "      <th>V8</th>\n",
       "      <th>V9</th>\n",
       "      <th>...</th>\n",
       "      <th>V20</th>\n",
       "      <th>V21</th>\n",
       "      <th>V22</th>\n",
       "      <th>V23</th>\n",
       "      <th>V24</th>\n",
       "      <th>V25</th>\n",
       "      <th>V26</th>\n",
       "      <th>V27</th>\n",
       "      <th>V28</th>\n",
       "      <th>Amount</th>\n",
       "    </tr>\n",
       "    <tr>\n",
       "      <th>Class</th>\n",
       "      <th></th>\n",
       "      <th></th>\n",
       "      <th></th>\n",
       "      <th></th>\n",
       "      <th></th>\n",
       "      <th></th>\n",
       "      <th></th>\n",
       "      <th></th>\n",
       "      <th></th>\n",
       "      <th></th>\n",
       "      <th></th>\n",
       "      <th></th>\n",
       "      <th></th>\n",
       "      <th></th>\n",
       "      <th></th>\n",
       "      <th></th>\n",
       "      <th></th>\n",
       "      <th></th>\n",
       "      <th></th>\n",
       "      <th></th>\n",
       "      <th></th>\n",
       "    </tr>\n",
       "  </thead>\n",
       "  <tbody>\n",
       "    <tr>\n",
       "      <th>0</th>\n",
       "      <td>94838.202258</td>\n",
       "      <td>0.008258</td>\n",
       "      <td>-0.006271</td>\n",
       "      <td>0.012171</td>\n",
       "      <td>-0.007860</td>\n",
       "      <td>0.005453</td>\n",
       "      <td>0.002419</td>\n",
       "      <td>0.009637</td>\n",
       "      <td>-0.000987</td>\n",
       "      <td>0.004467</td>\n",
       "      <td>...</td>\n",
       "      <td>-0.000644</td>\n",
       "      <td>-0.001235</td>\n",
       "      <td>-0.000024</td>\n",
       "      <td>0.000070</td>\n",
       "      <td>0.000182</td>\n",
       "      <td>-0.000072</td>\n",
       "      <td>-0.000089</td>\n",
       "      <td>-0.000295</td>\n",
       "      <td>-0.000131</td>\n",
       "      <td>88.291022</td>\n",
       "    </tr>\n",
       "    <tr>\n",
       "      <th>1</th>\n",
       "      <td>80746.806911</td>\n",
       "      <td>-4.771948</td>\n",
       "      <td>3.623778</td>\n",
       "      <td>-7.033281</td>\n",
       "      <td>4.542029</td>\n",
       "      <td>-3.151225</td>\n",
       "      <td>-1.397737</td>\n",
       "      <td>-5.568731</td>\n",
       "      <td>0.570636</td>\n",
       "      <td>-2.581123</td>\n",
       "      <td>...</td>\n",
       "      <td>0.372319</td>\n",
       "      <td>0.713588</td>\n",
       "      <td>0.014049</td>\n",
       "      <td>-0.040308</td>\n",
       "      <td>-0.105130</td>\n",
       "      <td>0.041449</td>\n",
       "      <td>0.051648</td>\n",
       "      <td>0.170575</td>\n",
       "      <td>0.075667</td>\n",
       "      <td>122.211321</td>\n",
       "    </tr>\n",
       "  </tbody>\n",
       "</table>\n",
       "<p>2 rows × 30 columns</p>\n",
       "</div>"
      ],
      "text/plain": [
       "               Time        V1        V2        V3        V4        V5  \\\n",
       "Class                                                                   \n",
       "0      94838.202258  0.008258 -0.006271  0.012171 -0.007860  0.005453   \n",
       "1      80746.806911 -4.771948  3.623778 -7.033281  4.542029 -3.151225   \n",
       "\n",
       "             V6        V7        V8        V9  ...       V20       V21  \\\n",
       "Class                                          ...                       \n",
       "0      0.002419  0.009637 -0.000987  0.004467  ... -0.000644 -0.001235   \n",
       "1     -1.397737 -5.568731  0.570636 -2.581123  ...  0.372319  0.713588   \n",
       "\n",
       "            V22       V23       V24       V25       V26       V27       V28  \\\n",
       "Class                                                                         \n",
       "0     -0.000024  0.000070  0.000182 -0.000072 -0.000089 -0.000295 -0.000131   \n",
       "1      0.014049 -0.040308 -0.105130  0.041449  0.051648  0.170575  0.075667   \n",
       "\n",
       "           Amount  \n",
       "Class              \n",
       "0       88.291022  \n",
       "1      122.211321  \n",
       "\n",
       "[2 rows x 30 columns]"
      ]
     },
     "execution_count": 12,
     "metadata": {},
     "output_type": "execute_result"
    }
   ],
   "source": [
    "credit_card_data.groupby('Class').mean()"
   ]
  },
  {
   "cell_type": "code",
   "execution_count": 13,
   "id": "4cf78b3f",
   "metadata": {
    "execution": {
     "iopub.execute_input": "2023-08-17T11:05:39.925823Z",
     "iopub.status.busy": "2023-08-17T11:05:39.925055Z",
     "iopub.status.idle": "2023-08-17T11:05:39.939202Z",
     "shell.execute_reply": "2023-08-17T11:05:39.938391Z"
    },
    "papermill": {
     "duration": 0.026452,
     "end_time": "2023-08-17T11:05:39.941379",
     "exception": false,
     "start_time": "2023-08-17T11:05:39.914927",
     "status": "completed"
    },
    "tags": []
   },
   "outputs": [],
   "source": [
    "legit_sample = legit.sample(n=492)"
   ]
  },
  {
   "cell_type": "code",
   "execution_count": 14,
   "id": "d70a1a3b",
   "metadata": {
    "execution": {
     "iopub.execute_input": "2023-08-17T11:05:39.960679Z",
     "iopub.status.busy": "2023-08-17T11:05:39.960053Z",
     "iopub.status.idle": "2023-08-17T11:05:39.965669Z",
     "shell.execute_reply": "2023-08-17T11:05:39.964802Z"
    },
    "papermill": {
     "duration": 0.017686,
     "end_time": "2023-08-17T11:05:39.967779",
     "exception": false,
     "start_time": "2023-08-17T11:05:39.950093",
     "status": "completed"
    },
    "tags": []
   },
   "outputs": [],
   "source": [
    "new_dataset = pd.concat([legit_sample, fraud], axis=0)"
   ]
  },
  {
   "cell_type": "code",
   "execution_count": 15,
   "id": "25f056b6",
   "metadata": {
    "execution": {
     "iopub.execute_input": "2023-08-17T11:05:39.987574Z",
     "iopub.status.busy": "2023-08-17T11:05:39.986648Z",
     "iopub.status.idle": "2023-08-17T11:05:40.011699Z",
     "shell.execute_reply": "2023-08-17T11:05:40.010542Z"
    },
    "papermill": {
     "duration": 0.037325,
     "end_time": "2023-08-17T11:05:40.014022",
     "exception": false,
     "start_time": "2023-08-17T11:05:39.976697",
     "status": "completed"
    },
    "tags": []
   },
   "outputs": [
    {
     "data": {
      "text/html": [
       "<div>\n",
       "<style scoped>\n",
       "    .dataframe tbody tr th:only-of-type {\n",
       "        vertical-align: middle;\n",
       "    }\n",
       "\n",
       "    .dataframe tbody tr th {\n",
       "        vertical-align: top;\n",
       "    }\n",
       "\n",
       "    .dataframe thead th {\n",
       "        text-align: right;\n",
       "    }\n",
       "</style>\n",
       "<table border=\"1\" class=\"dataframe\">\n",
       "  <thead>\n",
       "    <tr style=\"text-align: right;\">\n",
       "      <th></th>\n",
       "      <th>Time</th>\n",
       "      <th>V1</th>\n",
       "      <th>V2</th>\n",
       "      <th>V3</th>\n",
       "      <th>V4</th>\n",
       "      <th>V5</th>\n",
       "      <th>V6</th>\n",
       "      <th>V7</th>\n",
       "      <th>V8</th>\n",
       "      <th>V9</th>\n",
       "      <th>...</th>\n",
       "      <th>V21</th>\n",
       "      <th>V22</th>\n",
       "      <th>V23</th>\n",
       "      <th>V24</th>\n",
       "      <th>V25</th>\n",
       "      <th>V26</th>\n",
       "      <th>V27</th>\n",
       "      <th>V28</th>\n",
       "      <th>Amount</th>\n",
       "      <th>Class</th>\n",
       "    </tr>\n",
       "  </thead>\n",
       "  <tbody>\n",
       "    <tr>\n",
       "      <th>278422</th>\n",
       "      <td>168217.0</td>\n",
       "      <td>1.851253</td>\n",
       "      <td>0.154395</td>\n",
       "      <td>-3.454591</td>\n",
       "      <td>0.519493</td>\n",
       "      <td>3.021578</td>\n",
       "      <td>3.087509</td>\n",
       "      <td>-0.106904</td>\n",
       "      <td>0.770163</td>\n",
       "      <td>0.026612</td>\n",
       "      <td>...</td>\n",
       "      <td>-0.320680</td>\n",
       "      <td>-1.094223</td>\n",
       "      <td>0.244517</td>\n",
       "      <td>0.435258</td>\n",
       "      <td>-0.082867</td>\n",
       "      <td>-0.907409</td>\n",
       "      <td>0.041662</td>\n",
       "      <td>0.014170</td>\n",
       "      <td>73.20</td>\n",
       "      <td>0</td>\n",
       "    </tr>\n",
       "    <tr>\n",
       "      <th>233687</th>\n",
       "      <td>147661.0</td>\n",
       "      <td>2.114957</td>\n",
       "      <td>-0.664074</td>\n",
       "      <td>-1.834997</td>\n",
       "      <td>-2.185787</td>\n",
       "      <td>0.169076</td>\n",
       "      <td>-0.465409</td>\n",
       "      <td>-0.079813</td>\n",
       "      <td>-0.179312</td>\n",
       "      <td>2.039799</td>\n",
       "      <td>...</td>\n",
       "      <td>0.138325</td>\n",
       "      <td>0.821239</td>\n",
       "      <td>-0.117989</td>\n",
       "      <td>0.181609</td>\n",
       "      <td>0.557426</td>\n",
       "      <td>-0.662064</td>\n",
       "      <td>0.039638</td>\n",
       "      <td>-0.063702</td>\n",
       "      <td>9.99</td>\n",
       "      <td>0</td>\n",
       "    </tr>\n",
       "    <tr>\n",
       "      <th>232681</th>\n",
       "      <td>147264.0</td>\n",
       "      <td>2.099476</td>\n",
       "      <td>0.128074</td>\n",
       "      <td>-2.009693</td>\n",
       "      <td>0.383771</td>\n",
       "      <td>0.416390</td>\n",
       "      <td>-1.148945</td>\n",
       "      <td>0.208823</td>\n",
       "      <td>-0.306826</td>\n",
       "      <td>0.760982</td>\n",
       "      <td>...</td>\n",
       "      <td>0.142662</td>\n",
       "      <td>0.546167</td>\n",
       "      <td>-0.098798</td>\n",
       "      <td>-0.740509</td>\n",
       "      <td>0.316938</td>\n",
       "      <td>-0.058211</td>\n",
       "      <td>-0.009142</td>\n",
       "      <td>-0.039335</td>\n",
       "      <td>6.50</td>\n",
       "      <td>0</td>\n",
       "    </tr>\n",
       "    <tr>\n",
       "      <th>163269</th>\n",
       "      <td>115806.0</td>\n",
       "      <td>-0.565880</td>\n",
       "      <td>0.135593</td>\n",
       "      <td>1.400824</td>\n",
       "      <td>-2.647515</td>\n",
       "      <td>0.858462</td>\n",
       "      <td>-0.121119</td>\n",
       "      <td>0.654774</td>\n",
       "      <td>-0.243942</td>\n",
       "      <td>-1.344053</td>\n",
       "      <td>...</td>\n",
       "      <td>-0.330358</td>\n",
       "      <td>-1.037985</td>\n",
       "      <td>-0.215048</td>\n",
       "      <td>-0.015207</td>\n",
       "      <td>0.432703</td>\n",
       "      <td>-0.668484</td>\n",
       "      <td>-0.170773</td>\n",
       "      <td>-0.167245</td>\n",
       "      <td>12.99</td>\n",
       "      <td>0</td>\n",
       "    </tr>\n",
       "    <tr>\n",
       "      <th>220665</th>\n",
       "      <td>142262.0</td>\n",
       "      <td>-0.818153</td>\n",
       "      <td>0.920451</td>\n",
       "      <td>0.188945</td>\n",
       "      <td>0.801319</td>\n",
       "      <td>0.964949</td>\n",
       "      <td>-0.549992</td>\n",
       "      <td>2.891792</td>\n",
       "      <td>-1.447562</td>\n",
       "      <td>-0.605358</td>\n",
       "      <td>...</td>\n",
       "      <td>-0.048545</td>\n",
       "      <td>0.753142</td>\n",
       "      <td>-0.763035</td>\n",
       "      <td>0.062642</td>\n",
       "      <td>0.349389</td>\n",
       "      <td>-0.414244</td>\n",
       "      <td>-0.677613</td>\n",
       "      <td>-0.573310</td>\n",
       "      <td>212.97</td>\n",
       "      <td>0</td>\n",
       "    </tr>\n",
       "  </tbody>\n",
       "</table>\n",
       "<p>5 rows × 31 columns</p>\n",
       "</div>"
      ],
      "text/plain": [
       "            Time        V1        V2        V3        V4        V5        V6  \\\n",
       "278422  168217.0  1.851253  0.154395 -3.454591  0.519493  3.021578  3.087509   \n",
       "233687  147661.0  2.114957 -0.664074 -1.834997 -2.185787  0.169076 -0.465409   \n",
       "232681  147264.0  2.099476  0.128074 -2.009693  0.383771  0.416390 -1.148945   \n",
       "163269  115806.0 -0.565880  0.135593  1.400824 -2.647515  0.858462 -0.121119   \n",
       "220665  142262.0 -0.818153  0.920451  0.188945  0.801319  0.964949 -0.549992   \n",
       "\n",
       "              V7        V8        V9  ...       V21       V22       V23  \\\n",
       "278422 -0.106904  0.770163  0.026612  ... -0.320680 -1.094223  0.244517   \n",
       "233687 -0.079813 -0.179312  2.039799  ...  0.138325  0.821239 -0.117989   \n",
       "232681  0.208823 -0.306826  0.760982  ...  0.142662  0.546167 -0.098798   \n",
       "163269  0.654774 -0.243942 -1.344053  ... -0.330358 -1.037985 -0.215048   \n",
       "220665  2.891792 -1.447562 -0.605358  ... -0.048545  0.753142 -0.763035   \n",
       "\n",
       "             V24       V25       V26       V27       V28  Amount  Class  \n",
       "278422  0.435258 -0.082867 -0.907409  0.041662  0.014170   73.20      0  \n",
       "233687  0.181609  0.557426 -0.662064  0.039638 -0.063702    9.99      0  \n",
       "232681 -0.740509  0.316938 -0.058211 -0.009142 -0.039335    6.50      0  \n",
       "163269 -0.015207  0.432703 -0.668484 -0.170773 -0.167245   12.99      0  \n",
       "220665  0.062642  0.349389 -0.414244 -0.677613 -0.573310  212.97      0  \n",
       "\n",
       "[5 rows x 31 columns]"
      ]
     },
     "execution_count": 15,
     "metadata": {},
     "output_type": "execute_result"
    }
   ],
   "source": [
    "new_dataset.head()"
   ]
  },
  {
   "cell_type": "code",
   "execution_count": 16,
   "id": "0068edde",
   "metadata": {
    "execution": {
     "iopub.execute_input": "2023-08-17T11:05:40.033582Z",
     "iopub.status.busy": "2023-08-17T11:05:40.032925Z",
     "iopub.status.idle": "2023-08-17T11:05:40.041259Z",
     "shell.execute_reply": "2023-08-17T11:05:40.040080Z"
    },
    "papermill": {
     "duration": 0.020523,
     "end_time": "2023-08-17T11:05:40.043353",
     "exception": false,
     "start_time": "2023-08-17T11:05:40.022830",
     "status": "completed"
    },
    "tags": []
   },
   "outputs": [
    {
     "data": {
      "text/plain": [
       "0    492\n",
       "1    492\n",
       "Name: Class, dtype: int64"
      ]
     },
     "execution_count": 16,
     "metadata": {},
     "output_type": "execute_result"
    }
   ],
   "source": [
    "new_dataset['Class'].value_counts()"
   ]
  },
  {
   "cell_type": "code",
   "execution_count": 17,
   "id": "af4e18c3",
   "metadata": {
    "execution": {
     "iopub.execute_input": "2023-08-17T11:05:40.062838Z",
     "iopub.status.busy": "2023-08-17T11:05:40.062475Z",
     "iopub.status.idle": "2023-08-17T11:05:40.086287Z",
     "shell.execute_reply": "2023-08-17T11:05:40.085092Z"
    },
    "papermill": {
     "duration": 0.036134,
     "end_time": "2023-08-17T11:05:40.088443",
     "exception": false,
     "start_time": "2023-08-17T11:05:40.052309",
     "status": "completed"
    },
    "tags": []
   },
   "outputs": [
    {
     "data": {
      "text/html": [
       "<div>\n",
       "<style scoped>\n",
       "    .dataframe tbody tr th:only-of-type {\n",
       "        vertical-align: middle;\n",
       "    }\n",
       "\n",
       "    .dataframe tbody tr th {\n",
       "        vertical-align: top;\n",
       "    }\n",
       "\n",
       "    .dataframe thead th {\n",
       "        text-align: right;\n",
       "    }\n",
       "</style>\n",
       "<table border=\"1\" class=\"dataframe\">\n",
       "  <thead>\n",
       "    <tr style=\"text-align: right;\">\n",
       "      <th></th>\n",
       "      <th>Time</th>\n",
       "      <th>V1</th>\n",
       "      <th>V2</th>\n",
       "      <th>V3</th>\n",
       "      <th>V4</th>\n",
       "      <th>V5</th>\n",
       "      <th>V6</th>\n",
       "      <th>V7</th>\n",
       "      <th>V8</th>\n",
       "      <th>V9</th>\n",
       "      <th>...</th>\n",
       "      <th>V20</th>\n",
       "      <th>V21</th>\n",
       "      <th>V22</th>\n",
       "      <th>V23</th>\n",
       "      <th>V24</th>\n",
       "      <th>V25</th>\n",
       "      <th>V26</th>\n",
       "      <th>V27</th>\n",
       "      <th>V28</th>\n",
       "      <th>Amount</th>\n",
       "    </tr>\n",
       "    <tr>\n",
       "      <th>Class</th>\n",
       "      <th></th>\n",
       "      <th></th>\n",
       "      <th></th>\n",
       "      <th></th>\n",
       "      <th></th>\n",
       "      <th></th>\n",
       "      <th></th>\n",
       "      <th></th>\n",
       "      <th></th>\n",
       "      <th></th>\n",
       "      <th></th>\n",
       "      <th></th>\n",
       "      <th></th>\n",
       "      <th></th>\n",
       "      <th></th>\n",
       "      <th></th>\n",
       "      <th></th>\n",
       "      <th></th>\n",
       "      <th></th>\n",
       "      <th></th>\n",
       "      <th></th>\n",
       "    </tr>\n",
       "  </thead>\n",
       "  <tbody>\n",
       "    <tr>\n",
       "      <th>0</th>\n",
       "      <td>94845.569106</td>\n",
       "      <td>-0.016776</td>\n",
       "      <td>-0.019599</td>\n",
       "      <td>-0.024900</td>\n",
       "      <td>-0.001361</td>\n",
       "      <td>-0.044990</td>\n",
       "      <td>-0.026008</td>\n",
       "      <td>0.064784</td>\n",
       "      <td>-0.015308</td>\n",
       "      <td>0.057777</td>\n",
       "      <td>...</td>\n",
       "      <td>0.080773</td>\n",
       "      <td>-0.020847</td>\n",
       "      <td>0.015225</td>\n",
       "      <td>0.055262</td>\n",
       "      <td>-0.014441</td>\n",
       "      <td>0.019654</td>\n",
       "      <td>-0.047235</td>\n",
       "      <td>-0.016444</td>\n",
       "      <td>0.003169</td>\n",
       "      <td>100.049248</td>\n",
       "    </tr>\n",
       "    <tr>\n",
       "      <th>1</th>\n",
       "      <td>80746.806911</td>\n",
       "      <td>-4.771948</td>\n",
       "      <td>3.623778</td>\n",
       "      <td>-7.033281</td>\n",
       "      <td>4.542029</td>\n",
       "      <td>-3.151225</td>\n",
       "      <td>-1.397737</td>\n",
       "      <td>-5.568731</td>\n",
       "      <td>0.570636</td>\n",
       "      <td>-2.581123</td>\n",
       "      <td>...</td>\n",
       "      <td>0.372319</td>\n",
       "      <td>0.713588</td>\n",
       "      <td>0.014049</td>\n",
       "      <td>-0.040308</td>\n",
       "      <td>-0.105130</td>\n",
       "      <td>0.041449</td>\n",
       "      <td>0.051648</td>\n",
       "      <td>0.170575</td>\n",
       "      <td>0.075667</td>\n",
       "      <td>122.211321</td>\n",
       "    </tr>\n",
       "  </tbody>\n",
       "</table>\n",
       "<p>2 rows × 30 columns</p>\n",
       "</div>"
      ],
      "text/plain": [
       "               Time        V1        V2        V3        V4        V5  \\\n",
       "Class                                                                   \n",
       "0      94845.569106 -0.016776 -0.019599 -0.024900 -0.001361 -0.044990   \n",
       "1      80746.806911 -4.771948  3.623778 -7.033281  4.542029 -3.151225   \n",
       "\n",
       "             V6        V7        V8        V9  ...       V20       V21  \\\n",
       "Class                                          ...                       \n",
       "0     -0.026008  0.064784 -0.015308  0.057777  ...  0.080773 -0.020847   \n",
       "1     -1.397737 -5.568731  0.570636 -2.581123  ...  0.372319  0.713588   \n",
       "\n",
       "            V22       V23       V24       V25       V26       V27       V28  \\\n",
       "Class                                                                         \n",
       "0      0.015225  0.055262 -0.014441  0.019654 -0.047235 -0.016444  0.003169   \n",
       "1      0.014049 -0.040308 -0.105130  0.041449  0.051648  0.170575  0.075667   \n",
       "\n",
       "           Amount  \n",
       "Class              \n",
       "0      100.049248  \n",
       "1      122.211321  \n",
       "\n",
       "[2 rows x 30 columns]"
      ]
     },
     "execution_count": 17,
     "metadata": {},
     "output_type": "execute_result"
    }
   ],
   "source": [
    "new_dataset.groupby('Class').mean()"
   ]
  },
  {
   "cell_type": "code",
   "execution_count": 18,
   "id": "9998a96d",
   "metadata": {
    "execution": {
     "iopub.execute_input": "2023-08-17T11:05:40.108973Z",
     "iopub.status.busy": "2023-08-17T11:05:40.108314Z",
     "iopub.status.idle": "2023-08-17T11:05:40.114398Z",
     "shell.execute_reply": "2023-08-17T11:05:40.113382Z"
    },
    "papermill": {
     "duration": 0.018721,
     "end_time": "2023-08-17T11:05:40.116438",
     "exception": false,
     "start_time": "2023-08-17T11:05:40.097717",
     "status": "completed"
    },
    "tags": []
   },
   "outputs": [],
   "source": [
    "X = new_dataset.drop(columns='Class', axis=1)\n",
    "Y = new_dataset['Class']"
   ]
  },
  {
   "cell_type": "code",
   "execution_count": 19,
   "id": "f47a4eac",
   "metadata": {
    "execution": {
     "iopub.execute_input": "2023-08-17T11:05:40.137731Z",
     "iopub.status.busy": "2023-08-17T11:05:40.137316Z",
     "iopub.status.idle": "2023-08-17T11:05:40.154219Z",
     "shell.execute_reply": "2023-08-17T11:05:40.153449Z"
    },
    "papermill": {
     "duration": 0.030655,
     "end_time": "2023-08-17T11:05:40.156385",
     "exception": false,
     "start_time": "2023-08-17T11:05:40.125730",
     "status": "completed"
    },
    "tags": []
   },
   "outputs": [
    {
     "name": "stdout",
     "output_type": "stream",
     "text": [
      "            Time        V1        V2        V3        V4        V5        V6  \\\n",
      "278422  168217.0  1.851253  0.154395 -3.454591  0.519493  3.021578  3.087509   \n",
      "233687  147661.0  2.114957 -0.664074 -1.834997 -2.185787  0.169076 -0.465409   \n",
      "232681  147264.0  2.099476  0.128074 -2.009693  0.383771  0.416390 -1.148945   \n",
      "163269  115806.0 -0.565880  0.135593  1.400824 -2.647515  0.858462 -0.121119   \n",
      "220665  142262.0 -0.818153  0.920451  0.188945  0.801319  0.964949 -0.549992   \n",
      "...          ...       ...       ...       ...       ...       ...       ...   \n",
      "279863  169142.0 -1.927883  1.125653 -4.518331  1.749293 -1.566487 -2.010494   \n",
      "280143  169347.0  1.378559  1.289381 -5.004247  1.411850  0.442581 -1.326536   \n",
      "280149  169351.0 -0.676143  1.126366 -2.213700  0.468308 -1.120541 -0.003346   \n",
      "281144  169966.0 -3.113832  0.585864 -5.399730  1.817092 -0.840618 -2.943548   \n",
      "281674  170348.0  1.991976  0.158476 -2.583441  0.408670  1.151147 -0.096695   \n",
      "\n",
      "              V7        V8        V9  ...       V20       V21       V22  \\\n",
      "278422 -0.106904  0.770163  0.026612  ...  0.009533 -0.320680 -1.094223   \n",
      "233687 -0.079813 -0.179312  2.039799  ... -0.103285  0.138325  0.821239   \n",
      "232681  0.208823 -0.306826  0.760982  ... -0.229892  0.142662  0.546167   \n",
      "163269  0.654774 -0.243942 -1.344053  ...  0.272824 -0.330358 -1.037985   \n",
      "220665  2.891792 -1.447562 -0.605358  ... -0.264809 -0.048545  0.753142   \n",
      "...          ...       ...       ...  ...       ...       ...       ...   \n",
      "279863 -0.882850  0.697211 -2.064945  ...  1.252967  0.778584 -0.319189   \n",
      "280143 -1.413170  0.248525 -1.127396  ...  0.226138  0.370612  0.028234   \n",
      "280149 -2.234739  1.210158 -0.652250  ...  0.247968  0.751826  0.834108   \n",
      "281144 -2.208002  1.058733 -1.632333  ...  0.306271  0.583276 -0.269209   \n",
      "281674  0.223050 -0.068384  0.577829  ... -0.017652 -0.164350 -0.295135   \n",
      "\n",
      "             V23       V24       V25       V26       V27       V28  Amount  \n",
      "278422  0.244517  0.435258 -0.082867 -0.907409  0.041662  0.014170   73.20  \n",
      "233687 -0.117989  0.181609  0.557426 -0.662064  0.039638 -0.063702    9.99  \n",
      "232681 -0.098798 -0.740509  0.316938 -0.058211 -0.009142 -0.039335    6.50  \n",
      "163269 -0.215048 -0.015207  0.432703 -0.668484 -0.170773 -0.167245   12.99  \n",
      "220665 -0.763035  0.062642  0.349389 -0.414244 -0.677613 -0.573310  212.97  \n",
      "...          ...       ...       ...       ...       ...       ...     ...  \n",
      "279863  0.639419 -0.294885  0.537503  0.788395  0.292680  0.147968  390.00  \n",
      "280143 -0.145640 -0.081049  0.521875  0.739467  0.389152  0.186637    0.76  \n",
      "280149  0.190944  0.032070 -0.739695  0.471111  0.385107  0.194361   77.89  \n",
      "281144 -0.456108 -0.183659 -0.328168  0.606116  0.884876 -0.253700  245.00  \n",
      "281674 -0.072173 -0.450261  0.313267 -0.289617  0.002988 -0.015309   42.53  \n",
      "\n",
      "[984 rows x 30 columns]\n"
     ]
    }
   ],
   "source": [
    "print(X)"
   ]
  },
  {
   "cell_type": "code",
   "execution_count": 20,
   "id": "7c8f91f8",
   "metadata": {
    "execution": {
     "iopub.execute_input": "2023-08-17T11:05:40.176803Z",
     "iopub.status.busy": "2023-08-17T11:05:40.176224Z",
     "iopub.status.idle": "2023-08-17T11:05:40.182090Z",
     "shell.execute_reply": "2023-08-17T11:05:40.180941Z"
    },
    "papermill": {
     "duration": 0.018393,
     "end_time": "2023-08-17T11:05:40.184150",
     "exception": false,
     "start_time": "2023-08-17T11:05:40.165757",
     "status": "completed"
    },
    "tags": []
   },
   "outputs": [
    {
     "name": "stdout",
     "output_type": "stream",
     "text": [
      "278422    0\n",
      "233687    0\n",
      "232681    0\n",
      "163269    0\n",
      "220665    0\n",
      "         ..\n",
      "279863    1\n",
      "280143    1\n",
      "280149    1\n",
      "281144    1\n",
      "281674    1\n",
      "Name: Class, Length: 984, dtype: int64\n"
     ]
    }
   ],
   "source": [
    "print(Y)"
   ]
  },
  {
   "cell_type": "code",
   "execution_count": 21,
   "id": "6e128d65",
   "metadata": {
    "execution": {
     "iopub.execute_input": "2023-08-17T11:05:40.205765Z",
     "iopub.status.busy": "2023-08-17T11:05:40.204818Z",
     "iopub.status.idle": "2023-08-17T11:05:40.214884Z",
     "shell.execute_reply": "2023-08-17T11:05:40.213505Z"
    },
    "papermill": {
     "duration": 0.023903,
     "end_time": "2023-08-17T11:05:40.217384",
     "exception": false,
     "start_time": "2023-08-17T11:05:40.193481",
     "status": "completed"
    },
    "tags": []
   },
   "outputs": [],
   "source": [
    "X_train, X_test, Y_train, Y_test = train_test_split(X, Y, test_size=0.2, stratify=Y, random_state=2)"
   ]
  },
  {
   "cell_type": "code",
   "execution_count": 22,
   "id": "9fc9641a",
   "metadata": {
    "execution": {
     "iopub.execute_input": "2023-08-17T11:05:40.238826Z",
     "iopub.status.busy": "2023-08-17T11:05:40.237788Z",
     "iopub.status.idle": "2023-08-17T11:05:40.244481Z",
     "shell.execute_reply": "2023-08-17T11:05:40.242913Z"
    },
    "papermill": {
     "duration": 0.019863,
     "end_time": "2023-08-17T11:05:40.246688",
     "exception": false,
     "start_time": "2023-08-17T11:05:40.226825",
     "status": "completed"
    },
    "tags": []
   },
   "outputs": [
    {
     "name": "stdout",
     "output_type": "stream",
     "text": [
      "(984, 30) (787, 30) (197, 30)\n"
     ]
    }
   ],
   "source": [
    "print(X.shape, X_train.shape, X_test.shape)"
   ]
  },
  {
   "cell_type": "code",
   "execution_count": 23,
   "id": "d70bab20",
   "metadata": {
    "execution": {
     "iopub.execute_input": "2023-08-17T11:05:40.267458Z",
     "iopub.status.busy": "2023-08-17T11:05:40.267018Z",
     "iopub.status.idle": "2023-08-17T11:05:40.271550Z",
     "shell.execute_reply": "2023-08-17T11:05:40.270654Z"
    },
    "papermill": {
     "duration": 0.017324,
     "end_time": "2023-08-17T11:05:40.273581",
     "exception": false,
     "start_time": "2023-08-17T11:05:40.256257",
     "status": "completed"
    },
    "tags": []
   },
   "outputs": [],
   "source": [
    "model = LogisticRegression()"
   ]
  },
  {
   "cell_type": "code",
   "execution_count": 24,
   "id": "8362735b",
   "metadata": {
    "execution": {
     "iopub.execute_input": "2023-08-17T11:05:40.294422Z",
     "iopub.status.busy": "2023-08-17T11:05:40.293768Z",
     "iopub.status.idle": "2023-08-17T11:05:40.347699Z",
     "shell.execute_reply": "2023-08-17T11:05:40.346448Z"
    },
    "papermill": {
     "duration": 0.067738,
     "end_time": "2023-08-17T11:05:40.350822",
     "exception": false,
     "start_time": "2023-08-17T11:05:40.283084",
     "status": "completed"
    },
    "tags": []
   },
   "outputs": [
    {
     "data": {
      "text/html": [
       "<style>#sk-container-id-1 {color: black;background-color: white;}#sk-container-id-1 pre{padding: 0;}#sk-container-id-1 div.sk-toggleable {background-color: white;}#sk-container-id-1 label.sk-toggleable__label {cursor: pointer;display: block;width: 100%;margin-bottom: 0;padding: 0.3em;box-sizing: border-box;text-align: center;}#sk-container-id-1 label.sk-toggleable__label-arrow:before {content: \"▸\";float: left;margin-right: 0.25em;color: #696969;}#sk-container-id-1 label.sk-toggleable__label-arrow:hover:before {color: black;}#sk-container-id-1 div.sk-estimator:hover label.sk-toggleable__label-arrow:before {color: black;}#sk-container-id-1 div.sk-toggleable__content {max-height: 0;max-width: 0;overflow: hidden;text-align: left;background-color: #f0f8ff;}#sk-container-id-1 div.sk-toggleable__content pre {margin: 0.2em;color: black;border-radius: 0.25em;background-color: #f0f8ff;}#sk-container-id-1 input.sk-toggleable__control:checked~div.sk-toggleable__content {max-height: 200px;max-width: 100%;overflow: auto;}#sk-container-id-1 input.sk-toggleable__control:checked~label.sk-toggleable__label-arrow:before {content: \"▾\";}#sk-container-id-1 div.sk-estimator input.sk-toggleable__control:checked~label.sk-toggleable__label {background-color: #d4ebff;}#sk-container-id-1 div.sk-label input.sk-toggleable__control:checked~label.sk-toggleable__label {background-color: #d4ebff;}#sk-container-id-1 input.sk-hidden--visually {border: 0;clip: rect(1px 1px 1px 1px);clip: rect(1px, 1px, 1px, 1px);height: 1px;margin: -1px;overflow: hidden;padding: 0;position: absolute;width: 1px;}#sk-container-id-1 div.sk-estimator {font-family: monospace;background-color: #f0f8ff;border: 1px dotted black;border-radius: 0.25em;box-sizing: border-box;margin-bottom: 0.5em;}#sk-container-id-1 div.sk-estimator:hover {background-color: #d4ebff;}#sk-container-id-1 div.sk-parallel-item::after {content: \"\";width: 100%;border-bottom: 1px solid gray;flex-grow: 1;}#sk-container-id-1 div.sk-label:hover label.sk-toggleable__label {background-color: #d4ebff;}#sk-container-id-1 div.sk-serial::before {content: \"\";position: absolute;border-left: 1px solid gray;box-sizing: border-box;top: 0;bottom: 0;left: 50%;z-index: 0;}#sk-container-id-1 div.sk-serial {display: flex;flex-direction: column;align-items: center;background-color: white;padding-right: 0.2em;padding-left: 0.2em;position: relative;}#sk-container-id-1 div.sk-item {position: relative;z-index: 1;}#sk-container-id-1 div.sk-parallel {display: flex;align-items: stretch;justify-content: center;background-color: white;position: relative;}#sk-container-id-1 div.sk-item::before, #sk-container-id-1 div.sk-parallel-item::before {content: \"\";position: absolute;border-left: 1px solid gray;box-sizing: border-box;top: 0;bottom: 0;left: 50%;z-index: -1;}#sk-container-id-1 div.sk-parallel-item {display: flex;flex-direction: column;z-index: 1;position: relative;background-color: white;}#sk-container-id-1 div.sk-parallel-item:first-child::after {align-self: flex-end;width: 50%;}#sk-container-id-1 div.sk-parallel-item:last-child::after {align-self: flex-start;width: 50%;}#sk-container-id-1 div.sk-parallel-item:only-child::after {width: 0;}#sk-container-id-1 div.sk-dashed-wrapped {border: 1px dashed gray;margin: 0 0.4em 0.5em 0.4em;box-sizing: border-box;padding-bottom: 0.4em;background-color: white;}#sk-container-id-1 div.sk-label label {font-family: monospace;font-weight: bold;display: inline-block;line-height: 1.2em;}#sk-container-id-1 div.sk-label-container {text-align: center;}#sk-container-id-1 div.sk-container {/* jupyter's `normalize.less` sets `[hidden] { display: none; }` but bootstrap.min.css set `[hidden] { display: none !important; }` so we also need the `!important` here to be able to override the default hidden behavior on the sphinx rendered scikit-learn.org. See: https://github.com/scikit-learn/scikit-learn/issues/21755 */display: inline-block !important;position: relative;}#sk-container-id-1 div.sk-text-repr-fallback {display: none;}</style><div id=\"sk-container-id-1\" class=\"sk-top-container\"><div class=\"sk-text-repr-fallback\"><pre>LogisticRegression()</pre><b>In a Jupyter environment, please rerun this cell to show the HTML representation or trust the notebook. <br />On GitHub, the HTML representation is unable to render, please try loading this page with nbviewer.org.</b></div><div class=\"sk-container\" hidden><div class=\"sk-item\"><div class=\"sk-estimator sk-toggleable\"><input class=\"sk-toggleable__control sk-hidden--visually\" id=\"sk-estimator-id-1\" type=\"checkbox\" checked><label for=\"sk-estimator-id-1\" class=\"sk-toggleable__label sk-toggleable__label-arrow\">LogisticRegression</label><div class=\"sk-toggleable__content\"><pre>LogisticRegression()</pre></div></div></div></div></div>"
      ],
      "text/plain": [
       "LogisticRegression()"
      ]
     },
     "execution_count": 24,
     "metadata": {},
     "output_type": "execute_result"
    }
   ],
   "source": [
    "model.fit(X_train, Y_train)"
   ]
  },
  {
   "cell_type": "code",
   "execution_count": 25,
   "id": "bd8da43d",
   "metadata": {
    "execution": {
     "iopub.execute_input": "2023-08-17T11:05:40.386604Z",
     "iopub.status.busy": "2023-08-17T11:05:40.385921Z",
     "iopub.status.idle": "2023-08-17T11:05:40.399751Z",
     "shell.execute_reply": "2023-08-17T11:05:40.398390Z"
    },
    "papermill": {
     "duration": 0.035622,
     "end_time": "2023-08-17T11:05:40.403773",
     "exception": false,
     "start_time": "2023-08-17T11:05:40.368151",
     "status": "completed"
    },
    "tags": []
   },
   "outputs": [],
   "source": [
    "X_train_prediction = model.predict(X_train)\n",
    "training_data_accuracy = accuracy_score(X_train_prediction, Y_train)"
   ]
  },
  {
   "cell_type": "code",
   "execution_count": 26,
   "id": "0d68c725",
   "metadata": {
    "execution": {
     "iopub.execute_input": "2023-08-17T11:05:40.439083Z",
     "iopub.status.busy": "2023-08-17T11:05:40.438342Z",
     "iopub.status.idle": "2023-08-17T11:05:40.445626Z",
     "shell.execute_reply": "2023-08-17T11:05:40.444324Z"
    },
    "papermill": {
     "duration": 0.031178,
     "end_time": "2023-08-17T11:05:40.451506",
     "exception": false,
     "start_time": "2023-08-17T11:05:40.420328",
     "status": "completed"
    },
    "tags": []
   },
   "outputs": [
    {
     "name": "stdout",
     "output_type": "stream",
     "text": [
      "Accuracy on Training data :  0.940279542566709\n"
     ]
    }
   ],
   "source": [
    "print('Accuracy on Training data : ', training_data_accuracy)"
   ]
  },
  {
   "cell_type": "code",
   "execution_count": 27,
   "id": "44457c64",
   "metadata": {
    "execution": {
     "iopub.execute_input": "2023-08-17T11:05:40.487395Z",
     "iopub.status.busy": "2023-08-17T11:05:40.486674Z",
     "iopub.status.idle": "2023-08-17T11:05:40.499549Z",
     "shell.execute_reply": "2023-08-17T11:05:40.498308Z"
    },
    "papermill": {
     "duration": 0.034136,
     "end_time": "2023-08-17T11:05:40.502767",
     "exception": false,
     "start_time": "2023-08-17T11:05:40.468631",
     "status": "completed"
    },
    "tags": []
   },
   "outputs": [],
   "source": [
    "X_test_prediction = model.predict(X_test)\n",
    "test_data_accuracy = accuracy_score(X_test_prediction, Y_test)"
   ]
  },
  {
   "cell_type": "code",
   "execution_count": 28,
   "id": "9b573d33",
   "metadata": {
    "execution": {
     "iopub.execute_input": "2023-08-17T11:05:40.528867Z",
     "iopub.status.busy": "2023-08-17T11:05:40.528499Z",
     "iopub.status.idle": "2023-08-17T11:05:40.533605Z",
     "shell.execute_reply": "2023-08-17T11:05:40.532503Z"
    },
    "papermill": {
     "duration": 0.01886,
     "end_time": "2023-08-17T11:05:40.536255",
     "exception": false,
     "start_time": "2023-08-17T11:05:40.517395",
     "status": "completed"
    },
    "tags": []
   },
   "outputs": [
    {
     "name": "stdout",
     "output_type": "stream",
     "text": [
      "Accuracy score on Test Data :  0.934010152284264\n"
     ]
    }
   ],
   "source": [
    "print('Accuracy score on Test Data : ', test_data_accuracy)"
   ]
  },
  {
   "cell_type": "code",
   "execution_count": 29,
   "id": "1bbae811",
   "metadata": {
    "execution": {
     "iopub.execute_input": "2023-08-17T11:05:40.558095Z",
     "iopub.status.busy": "2023-08-17T11:05:40.557669Z",
     "iopub.status.idle": "2023-08-17T11:05:40.564234Z",
     "shell.execute_reply": "2023-08-17T11:05:40.562992Z"
    },
    "papermill": {
     "duration": 0.02053,
     "end_time": "2023-08-17T11:05:40.566662",
     "exception": false,
     "start_time": "2023-08-17T11:05:40.546132",
     "status": "completed"
    },
    "tags": []
   },
   "outputs": [],
   "source": [
    "y_scores = model.predict_proba(X_test)[:, 1]"
   ]
  },
  {
   "cell_type": "code",
   "execution_count": 30,
   "id": "73285736",
   "metadata": {
    "execution": {
     "iopub.execute_input": "2023-08-17T11:05:40.588409Z",
     "iopub.status.busy": "2023-08-17T11:05:40.587871Z",
     "iopub.status.idle": "2023-08-17T11:05:40.880428Z",
     "shell.execute_reply": "2023-08-17T11:05:40.879299Z"
    },
    "papermill": {
     "duration": 0.306585,
     "end_time": "2023-08-17T11:05:40.883044",
     "exception": false,
     "start_time": "2023-08-17T11:05:40.576459",
     "status": "completed"
    },
    "tags": []
   },
   "outputs": [
    {
     "data": {
      "image/png": "[encoded data removed]",
      "text/plain": [
       "<Figure size 640x480 with 1 Axes>"
      ]
     },
     "metadata": {},
     "output_type": "display_data"
    }
   ],
   "source": [
    "import matplotlib.pyplot as plt\n",
    "from sklearn.metrics import classification_report, confusion_matrix, roc_curve, roc_auc_score\n",
    "\n",
    "fpr, tpr, thresholds = roc_curve(Y_test, y_scores)\n",
    "roc_auc = roc_auc_score(Y_test, y_scores)\n",
    "\n",
    "plt.figure()\n",
    "plt.plot(fpr, tpr, color='darkorange', lw=2, label='ROC curve (area = %0.2f)' % roc_auc)\n",
    "plt.plot([0, 1], [0, 1], color='navy', lw=2, linestyle='--')\n",
    "plt.xlim([0.0, 1.0])\n",
    "plt.ylim([0.0, 1.05])\n",
    "plt.xlabel('False Positive Rate')\n",
    "plt.ylabel('True Positive Rate')\n",
    "plt.title('Receiver Operating Characteristic')\n",
    "plt.legend(loc=\"lower right\")\n",
    "plt.show()"
   ]
  },
  {
   "cell_type": "code",
   "execution_count": null,
   "id": "c76e730f",
   "metadata": {
    "papermill": {
     "duration": 0.010087,
     "end_time": "2023-08-17T11:05:40.903547",
     "exception": false,
     "start_time": "2023-08-17T11:05:40.893460",
     "status": "completed"
    },
    "tags": []
   },
   "outputs": [],
   "source": []
  }
 ],
 "metadata": {
  "kernelspec": {
   "display_name": "Python 3",
   "language": "python",
   "name": "python3"
  },
  "language_info": {
   "codemirror_mode": {
    "name": "ipython",
    "version": 3
   },
   "file_extension": ".py",
   "mimetype": "text/x-python",
   "name": "python",
   "nbconvert_exporter": "python",
   "pygments_lexer": "ipython3",
   "version": "3.10.12"
  },
  "papermill": {
   "default_parameters": {},
   "duration": 17.6308,
   "end_time": "2023-08-17T11:05:41.835745",
   "environment_variables": {},
   "exception": null,
   "input_path": "__notebook__.ipynb",
   "output_path": "__notebook__.ipynb",
   "parameters": {},
   "start_time": "2023-08-17T11:05:24.204945",
   "version": "2.4.0"
  }
 },
 "nbformat": 4,
 "nbformat_minor": 5
}
